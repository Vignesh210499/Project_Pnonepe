{
 "cells": [
  {
   "cell_type": "code",
   "execution_count": 38,
   "metadata": {},
   "outputs": [],
   "source": [
    "\n",
    "import json\n",
    "import streamlit\n",
    "import pandas as pd\n",
    "import requests\n",
    "import psycopg2 \n",
    "import plotly.express as px\n",
    "import plotly.graph_objects as go\n"
   ]
  },
  {
   "cell_type": "code",
   "execution_count": 39,
   "metadata": {},
   "outputs": [],
   "source": [
    "#create dataframe from sql\n",
    "#sql connection\n",
    "mydb = psycopg2.connect(host = \"localhost\",\n",
    "                        user = \"postgres\",\n",
    "                        password = \"Vignesh213@\",\n",
    "                        database = \"phonepay_data\",\n",
    "                        port = 5432)\n",
    "cursor = mydb.cursor()\n"
   ]
  },
  {
   "cell_type": "code",
   "execution_count": 40,
   "metadata": {},
   "outputs": [],
   "source": [
    "# Aggregated transaction\n",
    "cursor.execute(\" select * from aggregated_transaction;\")\n",
    "mydb.commit()\n",
    "table1 = cursor.fetchall()\n",
    "Aggre_trans = pd.DataFrame(table1,columns=(\"States\",\"Years\",\"Quarter\",\"Transaction_type\",\"Transaction_count\",\"Transaction_amount\"))"
   ]
  },
  {
   "cell_type": "code",
   "execution_count": 41,
   "metadata": {},
   "outputs": [],
   "source": [
    "# Aggregated user\n",
    "cursor.execute(\"select * from aggregated_user;\")\n",
    "mydb.commit()\n",
    "table2 = cursor.fetchall()\n",
    "Aggre_user = pd.DataFrame(table2,columns=(\"States\",\"Years\",\"Quarter\",\"Brand\",\"Transaction_count\",\"Percentage\"))"
   ]
  },
  {
   "cell_type": "code",
   "execution_count": 42,
   "metadata": {},
   "outputs": [],
   "source": [
    "# map transaction\n",
    "cursor.execute(\"select * from map_transaction;\")\n",
    "mydb.commit()\n",
    "table3 = cursor.fetchall()\n",
    "Map_trans = pd.DataFrame(table3,columns=(\"States\",\"Years\",\"Quarter\",\"Transaction_name\",\"Transaction_count\",\"Transaction_count\"))\n",
    "\n"
   ]
  },
  {
   "cell_type": "code",
   "execution_count": 43,
   "metadata": {},
   "outputs": [],
   "source": [
    "# map user \n",
    "cursor.execute(\"select * from map_user;\")\n",
    "mydb.commit()\n",
    "table4 = cursor.fetchall()\n",
    "Map_user = pd.DataFrame(table4,columns=(\"States\",\"Years\",\"Quarter\",\"Districts\",\"Registeredusers\",\"Appopens\"))"
   ]
  },
  {
   "cell_type": "code",
   "execution_count": 44,
   "metadata": {},
   "outputs": [],
   "source": [
    "# top transaction\n",
    "cursor.execute(\"select * from top_transaction;\")\n",
    "mydb.commit()\n",
    "table5 = cursor.fetchall()\n",
    "Top_trans = pd.DataFrame(table5,columns=(\"States\",\"Years\",\"Quarter\",\"Pincodes\",\"Transaction_count\",\"Transaction_amount\"))"
   ]
  },
  {
   "cell_type": "code",
   "execution_count": 45,
   "metadata": {},
   "outputs": [],
   "source": [
    "# top user\n",
    "cursor.execute(\"select * from top_user;\")\n",
    "mydb.commit()\n",
    "table6 = cursor.fetchall()\n",
    "Top_user = pd.DataFrame(table6,columns=(\"States\",\"Years\",\"Quarter\",\"Pincodes\",\"Registeredusers\"))"
   ]
  },
  {
   "cell_type": "code",
   "execution_count": 1,
   "metadata": {},
   "outputs": [],
   "source": [
    "\n",
    "def animate_all_amount():\n",
    "\n",
    "    url = \"https://gist.githubusercontent.com/jbrobst/56c13bbbf9d97d187fea01ca62ea5112/raw/e388c4cae20aa53cb5090210a42ebb9b765c0a36/india_states.geojson\"\n",
    "    response = requests.get(url)\n",
    "    data1 = json.loads(response.content)\n",
    "    state_names_tra = [feature[\"properties\"][\"ST_NM\"]for feature in data1[\"features\"]]\n",
    "    state_names_tra.sort()\n",
    "\n",
    "    df_state_names_tra = pd.DataFrame({\"States\":state_names_tra})\n",
    "\n",
    "\n",
    "    frames = []\n",
    "\n",
    "    for year in Map_user[\"Years\"].unique():\n",
    "        for quarter in Aggre_trans[\"Quarter\"].unique():\n",
    "\n",
    "            at1 = Aggre_trans[(Aggre_trans[\"Years\"]==year)&(Aggre_trans[\"Quarter\"]==quarter)]\n",
    "            atf1 = at1[[\"States\",\"Transaction_amount\"]]\n",
    "            atf1 = atf1.sort_values(by=\"States\")\n",
    "            atf1[\"Years\"]=year\n",
    "            atf1[\"Quarter\"]=quarter\n",
    "            frames.append(atf1)\n",
    "\n",
    "    merged_df = pd.concat(frames)\n",
    "\n",
    "    fig_tra = px.choropleth(merged_df,geojson=data1,locations=\"States\",featureidkey=\"properties.ST_NM\",color=\"Transaction_amount\",\n",
    "                            color_continuous_scale=\"Sunsetdark\",range_color=(0,4000000000),hover_name=\"States\",title=\"TRANSACTION AMOUNT\",\n",
    "                            animation_frame=\"Years\",animation_group=\"Quarter\")\n",
    "\n",
    "    fig_tra.update_geos(fitbounds=\"locations\",visible = False)\n",
    "    fig_tra.update_layout(width = 600,height = 700)\n",
    "    fig_tra.update_layout(title_font ={\"size\":25})\n",
    "    return st.plotly_chart(fig_tra)\n"
   ]
  },
  {
   "cell_type": "code",
   "execution_count": null,
   "metadata": {},
   "outputs": [],
   "source": []
  }
 ],
 "metadata": {
  "kernelspec": {
   "display_name": ".venv",
   "language": "python",
   "name": "python3"
  },
  "language_info": {
   "codemirror_mode": {
    "name": "ipython",
    "version": 3
   },
   "file_extension": ".py",
   "mimetype": "text/x-python",
   "name": "python",
   "nbconvert_exporter": "python",
   "pygments_lexer": "ipython3",
   "version": "3.11.4"
  }
 },
 "nbformat": 4,
 "nbformat_minor": 2
}
